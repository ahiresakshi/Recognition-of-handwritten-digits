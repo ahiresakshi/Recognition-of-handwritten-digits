{
  "nbformat": 4,
  "nbformat_minor": 0,
  "metadata": {
    "colab": {
      "name": "Recognition of handwritten digits",
      "provenance": [],
      "collapsed_sections": [],
      "authorship_tag": "ABX9TyOFL0tFLiAbHREYiAWxLchb",
      "include_colab_link": true
    },
    "kernelspec": {
      "name": "python3",
      "display_name": "Python 3"
    },
    "language_info": {
      "name": "python"
    }
  },
  "cells": [
    {
      "cell_type": "markdown",
      "metadata": {
        "id": "view-in-github",
        "colab_type": "text"
      },
      "source": [
        "<a href=\"https://colab.research.google.com/github/ahiresakshi/Recognition-of-handwritten-digits/blob/main/Recognition_of_handwritten_digits.ipynb\" target=\"_parent\"><img src=\"https://colab.research.google.com/assets/colab-badge.svg\" alt=\"Open In Colab\"/></a>"
      ]
    },
    {
      "cell_type": "code",
      "execution_count": null,
      "metadata": {
        "colab": {
          "base_uri": "https://localhost:8080/"
        },
        "id": "uiW6SYG30FcU",
        "outputId": "700f9cc0-bcab-414e-db44-09a5bed34c5a"
      },
      "outputs": [
        {
          "output_type": "stream",
          "name": "stdout",
          "text": [
            "Epoch 1/12\n",
            "469/469 [==============================] - 153s 326ms/step - loss: 2.2795 - accuracy: 0.1441 - val_loss: 2.2378 - val_accuracy: 0.2708\n",
            "Epoch 2/12\n",
            "469/469 [==============================] - 150s 321ms/step - loss: 2.2141 - accuracy: 0.2498 - val_loss: 2.1562 - val_accuracy: 0.4247\n",
            "Epoch 3/12\n",
            "274/469 [================>.............] - ETA: 1:00 - loss: 2.1496 - accuracy: 0.3368"
          ]
        }
      ],
      "source": [
        "import keras #library\n",
        "from keras.datasets import mnist\n",
        "from keras.models import Sequential\n",
        "\n",
        "from keras.layers import Dense, Dropout, Flatten #dense,dropout,flateen are the layers\n",
        "from keras.layers import Conv2D, MaxPooling2D #convolutional and poolinng layer in neural network\n",
        "from keras import backend as k\n",
        "import numpy as np\n",
        "import tensorflow\n",
        "(x_train, y_train), (x_test, y_test) = mnist.load_data() #mnist is dataset\n",
        "\n",
        "#process the data\n",
        "#change the dataset according to the model, so that it can be fed into the model\n",
        "img_rows, img_cols = 28,28\n",
        "if k.image_data_format()=='channels_first':\n",
        "  x_train=x_train.reshape(x_train.shape[0],1,img_rows,img_cols)\n",
        "  x_test =x_test_reshape(x_test.shape[0],1,img_rows,img_cols)\n",
        "  input_shape=(1,img_rows,img_cols) #divide data into rows and columns\n",
        "else:\n",
        "    x_train = x_train.reshape(x_train.shape[0], img_rows, img_cols, 1) #converting data \n",
        "    x_test = x_test.reshape(x_test.shape[0], img_rows, img_cols, 1)\n",
        "    input_shape = (img_rows, img_cols, 1)\n",
        "    x_train = x_train.astype('float32')\n",
        "    x_test = x_test.astype('float32') #astype is used to convert into float\n",
        "    x_train /=255\n",
        "x_test /=255\n",
        "y_train = keras.utils.np_utils.to_categorical(y_train, 10)\n",
        "y_test = keras.utils.np_utils.to_categorical(y_test, 10)\n",
        "#create sequential model \n",
        "model = Sequential()\n",
        "model.add(Conv2D(32, kernel_size = (3,3), activation = 'relu',input_shape = input_shape))\n",
        "model.add(Conv2D(64,(3,3),activation='relu'))\n",
        "model.add(MaxPooling2D(pool_size=(2,2)))\n",
        "# adding the layers\n",
        "model.add(Dropout(0.25))\n",
        "model.add(Flatten())\n",
        "model.add(Dense(128,activation='relu'))\n",
        "model.add(Dropout(0.5))\n",
        "model.add(Dense(10,activation='softmax'))\n",
        "#compile the model \n",
        "model.compile(loss=keras.losses.categorical_crossentropy,optimizer = tensorflow.keras.optimizers.Adadelta(), metrics = ['accuracy'])\n",
        "#train the model using fit() method\n",
        "model.fit(\n",
        "    x_train, y_train,\n",
        "    batch_size = 128,\n",
        "    epochs = 12,\n",
        "    verbose = 1,\n",
        "    validation_data = (x_test,y_test))\n",
        "#evaluating model\n",
        "score = model.evaluate(x_test,y_test,verbose=0)\n",
        "print('Test loss:', score[0])\n",
        "print('Test accuracy:', score[1])\n",
        "#predict digit from images\n",
        "pred = model.predict(x_test)\n",
        "pred = np.argmax(pred, axis=1)[:5]\n",
        "label = np.argmax(y_test,axis=1)[:5]\n",
        "print(pred)\n",
        "print(label)\n"
      ]
    }
  ]
}